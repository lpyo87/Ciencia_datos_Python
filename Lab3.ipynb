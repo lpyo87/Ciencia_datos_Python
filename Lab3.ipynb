{
 "cells": [
  {
   "attachments": {},
   "cell_type": "markdown",
   "metadata": {},
   "source": [
    "# Laboratorio 3"
   ]
  },
  {
   "attachments": {},
   "cell_type": "markdown",
   "metadata": {},
   "source": [
    "Luis Pedro Pérez 22008067"
   ]
  },
  {
   "cell_type": "markdown",
   "metadata": {},
   "source": [
    "1) ¿Cuál es el tamaño en bytes de un array de 1000 elementos de tipo booleano?"
   ]
  },
  {
   "cell_type": "code",
   "execution_count": 23,
   "metadata": {},
   "outputs": [
    {
     "data": {
      "text/plain": [
       "1112"
      ]
     },
     "execution_count": 23,
     "metadata": {},
     "output_type": "execute_result"
    }
   ],
   "source": [
    "import numpy as np\n",
    "import sys\n",
    "#Se realiza un array tipo booleano de tamaño 1000\n",
    "x=np.ones(1000, dtype=bool)\n",
    "#Se extrae el tamaño del mismo en bytes\n",
    "sys.getsizeof(x)"
   ]
  },
  {
   "attachments": {},
   "cell_type": "markdown",
   "metadata": {},
   "source": [
    "2. Cree un array cuyos elementos sean los enteros pares en\n",
    "[1,100] y en orden decreciente. Muestre los 10 últimos\n",
    "por pantalla."
   ]
  },
  {
   "cell_type": "code",
   "execution_count": 24,
   "metadata": {},
   "outputs": [
    {
     "name": "stdout",
     "output_type": "stream",
     "text": [
      "[20 18 16 14 12 10  8  6  4  2]\n"
     ]
    }
   ],
   "source": [
    "import numpy as np\n",
    "#Se realiza el arrange de numeros enteros pares de 1 a 100 con la función np.arange. Seguido, se le invierte con la función np.flip\n",
    "x= np.flip(np.arange(2,101,2))\n",
    "#Se muestran los últimos 10\n",
    "print(x[-10:])"
   ]
  },
  {
   "attachments": {},
   "cell_type": "markdown",
   "metadata": {},
   "source": [
    "3) Dado el array\n",
    "2 4 5 6\n",
    "0 3 7 4\n",
    "8 8 5 2\n",
    "1 5 6 1\n",
    "Seleccione con una instrucción el subarray de elementos\n",
    "0 3 7 4\n",
    "Después, seleccione el subarray de elementos\n",
    "2 5\n",
    "8 5"
   ]
  },
  {
   "cell_type": "code",
   "execution_count": 25,
   "metadata": {},
   "outputs": [
    {
     "name": "stdout",
     "output_type": "stream",
     "text": [
      "[0, 3, 7, 4]\n",
      "([[2, 5]], [8, 5])\n"
     ]
    }
   ],
   "source": [
    "#Se crea el arrange\n",
    "x=[[2,4,5,6],[0,3,7,4],[8,8,5,2],[1,5,6,1]]\n",
    "#Se extrae el elemento 1 del arrange\n",
    "subarray=x[1]\n",
    "print(subarray)\n",
    "#Se extraen los valores especificados.\n",
    "subarray2 =     [[x[0][0],x[0][2]]],[x[2][0],x[2][2]]\n",
    "print(subarray2)"
   ]
  },
  {
   "attachments": {},
   "cell_type": "markdown",
   "metadata": {},
   "source": [
    "3. Dados los arrays a = [1, 4, 2, 7] y b = [1, 3, 2, 9],\n",
    "obtenga la media aritmética de la diferencia (a-b)."
   ]
  },
  {
   "cell_type": "code",
   "execution_count": 2,
   "metadata": {},
   "outputs": [
    {
     "name": "stdout",
     "output_type": "stream",
     "text": [
      "La media aritmética de la diferencia entre a y b es: -0.25\n"
     ]
    }
   ],
   "source": [
    "import numpy as np\n",
    "\n",
    "a = np.array([1, 4, 2, 7])\n",
    "b = np.array([1, 3, 2, 9])\n",
    "\n",
    "dif = a - b\n",
    "media = np.mean(dif)\n",
    "\n",
    "print(f\"La media aritmética de la diferencia entre a y b es: {media}\")"
   ]
  }
 ],
 "metadata": {
  "kernelspec": {
   "display_name": "Python 3",
   "language": "python",
   "name": "python3"
  },
  "language_info": {
   "codemirror_mode": {
    "name": "ipython",
    "version": 3
   },
   "file_extension": ".py",
   "mimetype": "text/x-python",
   "name": "python",
   "nbconvert_exporter": "python",
   "pygments_lexer": "ipython3",
   "version": "3.11.2"
  },
  "orig_nbformat": 4
 },
 "nbformat": 4,
 "nbformat_minor": 2
}
