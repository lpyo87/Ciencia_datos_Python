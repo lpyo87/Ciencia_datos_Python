{
 "cells": [
  {
   "cell_type": "markdown",
   "metadata": {},
   "source": [
    "# Laboratorio #2"
   ]
  },
  {
   "attachments": {},
   "cell_type": "markdown",
   "metadata": {},
   "source": [
    "Luis Pedro Pérez - 22008067"
   ]
  },
  {
   "cell_type": "code",
   "execution_count": 30,
   "metadata": {},
   "outputs": [],
   "source": [
    "1. \n",
    "# Se crea la variable x\n",
    "x = None\n",
    "#Se valida el tipo de valor ingresado\n",
    "def valid(x):\n",
    "    while True:\n",
    "        try:\n",
    "            entero=int(x)\n",
    "            return True\n",
    "        except TypeError:\n",
    "            print(\"El valor ingresado no es entero\")\n",
    "            break\n",
    "        except ValueError:\n",
    "            print(\"El valor ingresado no es entero\")\n",
    "            break\n",
    "        \"\"\" else:\n",
    "        return entero\n",
    "        break \"\"\"\n",
    "\n",
    "# Se define la función tiempo  \n",
    "def tiempo ():\n",
    "    y=input(\"Ingrese la cantidad de segundos\")\n",
    "    x=valid(y)\n",
    "    if x == True:\n",
    "        x=int(y)\n",
    "        horas    = x // 3600\n",
    "        minutos  = (x-horas*3600) // 60\n",
    "        segundos = (x-horas*3600-minutos*60)\n",
    "        print(f\"Horas: {horas}, Minutos: {minutos}, Segundos: {segundos}\")\n",
    "    else:\n",
    "        print(\"Ingresar valor correcto\")"
   ]
  },
  {
   "cell_type": "code",
   "execution_count": 31,
   "metadata": {},
   "outputs": [
    {
     "name": "stdout",
     "output_type": "stream",
     "text": [
      "Horas: 6, Minutos: 30, Segundos: 56\n"
     ]
    }
   ],
   "source": [
    "tiempo()"
   ]
  },
  {
   "cell_type": "code",
   "execution_count": 1,
   "metadata": {},
   "outputs": [],
   "source": [
    "def valid(x):\n",
    "    while True:\n",
    "        try:\n",
    "            entero=int(x)\n",
    "            return entero\n",
    "        except TypeError:\n",
    "            print(\"El valor ingresado no es entero\")\n",
    "            break\n",
    "        except ValueError:\n",
    "            print(\"El valor ingresado no es entero\")\n",
    "            break\n",
    "        '''else:\n",
    "            print(\"Valor incorrecto2\")\n",
    "            break''' \n",
    "\n",
    "def valid_rango(x):\n",
    "        #import sys\n",
    "        while True:\n",
    "            if not 1<=x<=20:\n",
    "                print(\"El valor ingresado no está en el rango\")\n",
    "                break\n",
    "                #sys.exit(\"El valor ingresado no está en el rango\")\n",
    "            else:\n",
    "                return int(x)\n",
    "            \n",
    "def figura():\n",
    "    y=input(\"Ingrese la cantidad de niveles o líneas entre 1 a 20\")\n",
    "    car=input(\"Ingresar el caracter a imprimir: \")\n",
    "    x=valid(y)\n",
    "    x=valid_rango(x)\n",
    "    for i in range(x):\n",
    "        for pc in range(i+1):\n",
    "            print(car, end=\" \")\n",
    "        for pd in range(i,x):\n",
    "            print(\" \", end=\" \")\n",
    "        for cuad in range(x):\n",
    "            print(\" \", end=\" \")\n",
    "        for pc in range(i+1):\n",
    "            print(\" \", end=\" \")\n",
    "        for pd in range(i,x):\n",
    "            print(car, end=\" \")\n",
    "        for cuad in range(x):\n",
    "            print(\" \", end=\" \")\n",
    "        for pd in range(i,x):\n",
    "            print(car, end=\" \")\n",
    "        for pc in range(i+1):\n",
    "            print(\" \", end=\" \")\n",
    "        for pd in range(i,x):\n",
    "            print(\" \", end=\" \")\n",
    "        for pc in range(i+1):\n",
    "            print(car, end=\" \")\n",
    "        print()"
   ]
  },
  {
   "cell_type": "code",
   "execution_count": 3,
   "metadata": {},
   "outputs": [
    {
     "name": "stdout",
     "output_type": "stream",
     "text": [
      "El valor ingresado no está en el rango\n"
     ]
    },
    {
     "ename": "TypeError",
     "evalue": "'NoneType' object cannot be interpreted as an integer",
     "output_type": "error",
     "traceback": [
      "\u001b[1;31m---------------------------------------------------------------------------\u001b[0m",
      "\u001b[1;31mTypeError\u001b[0m                                 Traceback (most recent call last)",
      "Cell \u001b[1;32mIn[3], line 1\u001b[0m\n\u001b[1;32m----> 1\u001b[0m figura()\n",
      "Cell \u001b[1;32mIn[1], line 31\u001b[0m, in \u001b[0;36mfigura\u001b[1;34m()\u001b[0m\n\u001b[0;32m     29\u001b[0m x\u001b[39m=\u001b[39mvalid(y)\n\u001b[0;32m     30\u001b[0m x\u001b[39m=\u001b[39mvalid_rango(x)\n\u001b[1;32m---> 31\u001b[0m \u001b[39mfor\u001b[39;00m i \u001b[39min\u001b[39;00m \u001b[39mrange\u001b[39m(x):\n\u001b[0;32m     32\u001b[0m     \u001b[39mfor\u001b[39;00m pc \u001b[39min\u001b[39;00m \u001b[39mrange\u001b[39m(i\u001b[39m+\u001b[39m\u001b[39m1\u001b[39m):\n\u001b[0;32m     33\u001b[0m         \u001b[39mprint\u001b[39m(car, end\u001b[39m=\u001b[39m\u001b[39m\"\u001b[39m\u001b[39m \u001b[39m\u001b[39m\"\u001b[39m)\n",
      "\u001b[1;31mTypeError\u001b[0m: 'NoneType' object cannot be interpreted as an integer"
     ]
    }
   ],
   "source": [
    "figura()"
   ]
  },
  {
   "cell_type": "code",
   "execution_count": 69,
   "metadata": {},
   "outputs": [],
   "source": [
    "#Se valida que los datos ingresados sean enteros\n",
    "def edad():\n",
    "    from datetime import time\n",
    "    while True:\n",
    "        try:\n",
    "            dia=input(\"Ingrese valor para dia:\")\n",
    "            mes=input(\"Ingrese valor para mes:\")\n",
    "            anio=input(\"Ingrese valor para año:\")\n",
    "            resultado=calc_edad(int(dia), int(mes), int(anio))\n",
    "            print(f\"La edad es de {resultado[0]} años, {resultado[1]} meses, {resultado[2]} días\")\n",
    "            break\n",
    "        except TypeError:\n",
    "            print(\"El valor ingresado no es entero\")\n",
    "            break\n",
    "        except ValueError:\n",
    "            print(\"El valor ingresado no es entero\")\n",
    "            break\n",
    "#Se importa la función de date del paquete datetime\n",
    "def calc_edad(dia, mes, anio):\n",
    "    from datetime import date\n",
    "    # Se define la fecha actual\n",
    "    fecha_hoy = date.today()\n",
    "    # Se define la fecha de nacimiento\n",
    "    fecha_nac = date(anio, mes, dia)\n",
    "    # Cálculo de edad\n",
    "    edad= fecha_hoy.year - fecha_nac.year - ((fecha_hoy.month, fecha_hoy.day) < (fecha_nac.month, fecha_nac.day))\n",
    "    mes  = fecha_hoy.month - fecha_nac.month -((fecha_hoy.day) < (fecha_hoy.day))\n",
    "    dia  = fecha_hoy.day - fecha_nac.day\n",
    "    # Devolución edad\n",
    "    return (edad, mes, dia)\n",
    "\n"
   ]
  },
  {
   "cell_type": "code",
   "execution_count": 68,
   "metadata": {},
   "outputs": [
    {
     "name": "stdout",
     "output_type": "stream",
     "text": [
      "La edad es de 28 años, -2 meses, -22 días\n"
     ]
    }
   ],
   "source": [
    "edad()"
   ]
  }
 ],
 "metadata": {
  "kernelspec": {
   "display_name": "Python 3",
   "language": "python",
   "name": "python3"
  },
  "language_info": {
   "codemirror_mode": {
    "name": "ipython",
    "version": 3
   },
   "file_extension": ".py",
   "mimetype": "text/x-python",
   "name": "python",
   "nbconvert_exporter": "python",
   "pygments_lexer": "ipython3",
   "version": "3.11.2"
  },
  "orig_nbformat": 4,
  "vscode": {
   "interpreter": {
    "hash": "7a15466719616190a2efdf83dc7907457ce9ab4ed30becfa487374260bfac4bc"
   }
  }
 },
 "nbformat": 4,
 "nbformat_minor": 2
}
