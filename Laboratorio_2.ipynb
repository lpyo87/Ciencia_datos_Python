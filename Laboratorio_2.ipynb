{
 "cells": [
  {
   "cell_type": "markdown",
   "metadata": {},
   "source": [
    "# Laboratorio #2"
   ]
  },
  {
   "attachments": {},
   "cell_type": "markdown",
   "metadata": {},
   "source": [
    "Luis Pedro Pérez - 22008067"
   ]
  },
  {
   "attachments": {},
   "cell_type": "markdown",
   "metadata": {},
   "source": [
    "### Problema 1"
   ]
  },
  {
   "cell_type": "code",
   "execution_count": 30,
   "metadata": {},
   "outputs": [],
   "source": [
    "# Se crea la variable x\n",
    "x = None\n",
    "#Se valida el tipo de valor ingresado\n",
    "def valid(x):\n",
    "    while True:\n",
    "        try:\n",
    "            entero=int(x)\n",
    "            return True\n",
    "        except TypeError:\n",
    "            print(\"El valor ingresado no es entero\")\n",
    "            break\n",
    "        except ValueError:\n",
    "            print(\"El valor ingresado no es entero\")\n",
    "            break\n",
    "        \"\"\" else:\n",
    "        return entero\n",
    "        break \"\"\"\n",
    "\n",
    "# Se define la función tiempo  \n",
    "def tiempo ():\n",
    "    y=input(\"Ingrese la cantidad de segundos\")\n",
    "    x=valid(y)\n",
    "    if x == True:\n",
    "        x=int(y)\n",
    "        horas    = x // 3600\n",
    "        minutos  = (x-horas*3600) // 60\n",
    "        segundos = (x-horas*3600-minutos*60)\n",
    "        print(f\"Horas: {horas}, Minutos: {minutos}, Segundos: {segundos}\")\n",
    "    else:\n",
    "        print(\"Ingresar valor correcto\")"
   ]
  },
  {
   "cell_type": "code",
   "execution_count": 31,
   "metadata": {},
   "outputs": [
    {
     "name": "stdout",
     "output_type": "stream",
     "text": [
      "Horas: 6, Minutos: 30, Segundos: 56\n"
     ]
    }
   ],
   "source": [
    "tiempo()"
   ]
  },
  {
   "attachments": {},
   "cell_type": "markdown",
   "metadata": {},
   "source": [
    "### Problema 2"
   ]
  },
  {
   "cell_type": "code",
   "execution_count": 1,
   "metadata": {},
   "outputs": [],
   "source": [
    "def valid(x):\n",
    "    while True:\n",
    "        try:\n",
    "            entero=int(x)\n",
    "            return entero\n",
    "        except TypeError:\n",
    "            print(\"El valor ingresado no es entero\")\n",
    "            break\n",
    "        except ValueError:\n",
    "            print(\"El valor ingresado no es entero\")\n",
    "            break\n",
    "        '''else:\n",
    "            print(\"Valor incorrecto2\")\n",
    "            break''' \n",
    "\n",
    "def valid_rango(x):\n",
    "        #import sys\n",
    "        while True:\n",
    "            if not 1<=x<=20:\n",
    "                print(\"El valor ingresado no está en el rango\")\n",
    "                break\n",
    "                #sys.exit(\"El valor ingresado no está en el rango\")\n",
    "            else:\n",
    "                return int(x)\n",
    "            \n",
    "def figura():\n",
    "    y=input(\"Ingrese la cantidad de niveles o líneas entre 1 a 20\")\n",
    "    car=input(\"Ingresar el caracter a imprimir: \")\n",
    "    x=valid(y)\n",
    "    x=valid_rango(x)\n",
    "    for i in range(x):\n",
    "        for pc in range(i+1):\n",
    "            print(car, end=\" \")\n",
    "        for pd in range(i,x):\n",
    "            print(\" \", end=\" \")\n",
    "        for cuad in range(x):\n",
    "            print(\" \", end=\" \")\n",
    "        for pc in range(i+1):\n",
    "            print(\" \", end=\" \")\n",
    "        for pd in range(i,x):\n",
    "            print(car, end=\" \")\n",
    "        for cuad in range(x):\n",
    "            print(\" \", end=\" \")\n",
    "        for pd in range(i,x):\n",
    "            print(car, end=\" \")\n",
    "        for pc in range(i+1):\n",
    "            print(\" \", end=\" \")\n",
    "        for pd in range(i,x):\n",
    "            print(\" \", end=\" \")\n",
    "        for pc in range(i+1):\n",
    "            print(car, end=\" \")\n",
    "        print()"
   ]
  },
  {
   "cell_type": "code",
   "execution_count": 70,
   "metadata": {},
   "outputs": [
    {
     "name": "stdout",
     "output_type": "stream",
     "text": [
      "y                   y y y y         y y y y           y \n",
      "y y                   y y y         y y y           y y \n",
      "y y y                   y y         y y           y y y \n",
      "y y y y                   y         y           y y y y \n"
     ]
    }
   ],
   "source": [
    "figura()"
   ]
  },
  {
   "attachments": {},
   "cell_type": "markdown",
   "metadata": {},
   "source": [
    "### Problema 3"
   ]
  },
  {
   "cell_type": "code",
   "execution_count": 91,
   "metadata": {},
   "outputs": [],
   "source": [
    "#Se valida que los datos ingresados sean enteros\n",
    "def edad():\n",
    "    from datetime import time\n",
    "    while True:\n",
    "        try:\n",
    "            dia=input(\"Ingrese valor para dia:\")\n",
    "            mes=input(\"Ingrese valor para mes:\")\n",
    "            anio=input(\"Ingrese valor para año:\")\n",
    "            resultado=calc_edad(int(dia), int(mes), int(anio))\n",
    "            print(f\"La edad es de {resultado[0]} años, {resultado[1]} meses, {resultado[2]} días\")\n",
    "            break\n",
    "        except TypeError:\n",
    "            print(\"El valor ingresado no es entero\")\n",
    "            break\n",
    "        except ValueError:\n",
    "            print(\"El valor ingresado no es entero\")\n",
    "            break\n",
    "#Se importa la función de date del paquete datetime\n",
    "def calc_edad(dia, mes, anio):\n",
    "    from datetime import date\n",
    "    # Se define la fecha actual\n",
    "    fecha_hoy = date.today()\n",
    "    # Se define la fecha de nacimiento\n",
    "    fecha_nac = date(anio, mes, dia)\n",
    "    # Cálculo de edad\n",
    "    edad= fecha_hoy.year - fecha_nac.year - ((fecha_hoy.month, fecha_hoy.day) < (fecha_nac.month, fecha_nac.day))\n",
    "    mes  = fecha_hoy.month - fecha_nac.month -((fecha_hoy.day) < (fecha_nac.day))+12\n",
    "    dia  = (fecha_hoy.day - fecha_nac.day)+30\n",
    "    # Devolución edad\n",
    "    return (edad, mes, dia)\n",
    "\n"
   ]
  },
  {
   "cell_type": "code",
   "execution_count": 92,
   "metadata": {},
   "outputs": [
    {
     "name": "stdout",
     "output_type": "stream",
     "text": [
      "La edad es de 28 años, 9 meses, 17 días\n"
     ]
    }
   ],
   "source": [
    "edad()"
   ]
  },
  {
   "cell_type": "markdown",
   "metadata": {},
   "source": [
    "### Problema 4"
   ]
  },
  {
   "cell_type": "code",
   "execution_count": 99,
   "metadata": {},
   "outputs": [],
   "source": [
    "#Se define la función de validación de ingreso de cantidad de caracteres\n",
    "def valid(x):\n",
    "    while True:\n",
    "        try:\n",
    "            entero=int(x)\n",
    "            return entero\n",
    "        except TypeError:\n",
    "            print(\"El valor ingresado no es entero\")\n",
    "            break\n",
    "        except ValueError:\n",
    "            print(\"El valor ingresado no es entero\")\n",
    "            break\n",
    "#Se define la función de ingreso de tupla\n",
    "def tupla_tex():\n",
    "    #Se establece el rango de la tupla\n",
    "    rango = input(\"Ingrese cantidad de elementos:\")\n",
    "    #Se valida el rango de la tupla\n",
    "    x=valid(rango)\n",
    "    #Se crea la lista donde estará la tupla\n",
    "    elementos=[]\n",
    "    #Se establece la función de recursividad para llenar los elementos\n",
    "    for i in range(x):\n",
    "        var1 = input(f\"Ingrese el elemento {i+1}:\")\n",
    "        elementos.append(var1)\n",
    "    #Se concatenan los elementos de la lista\n",
    "    print(\"\".join(elementos))"
   ]
  },
  {
   "cell_type": "code",
   "execution_count": 98,
   "metadata": {},
   "outputs": [
    {
     "name": "stdout",
     "output_type": "stream",
     "text": [
      "ag5\n"
     ]
    }
   ],
   "source": [
    "tupla_tex()"
   ]
  },
  {
   "attachments": {},
   "cell_type": "markdown",
   "metadata": {},
   "source": [
    "### Problema 5"
   ]
  },
  {
   "cell_type": "code",
   "execution_count": 41,
   "metadata": {},
   "outputs": [],
   "source": [
    "def valid(x):\n",
    "    while True:\n",
    "        try:\n",
    "            entero=int(x)\n",
    "            return entero\n",
    "        except TypeError:\n",
    "            print(\"El valor ingresado no es entero\")\n",
    "            break\n",
    "        except ValueError:\n",
    "            print(\"El valor ingresado no es entero\")\n",
    "            break\n",
    "\n",
    "def tupla_tex():\n",
    "    #Se establece el rango de la tupla\n",
    "    rango = input(\"Ingrese cantidad de elementos:\")\n",
    "    #Se valida el rango de la tupla\n",
    "    x=valid(rango)\n",
    "    #Se crea la lista donde estará la tupla\n",
    "    tupla=[]\n",
    "    #Se establece la función de recursividad para llenar la tupla con los elementos\n",
    "    for i in range(x):\n",
    "        var1 = input(f\"Ingrese el elemento {i+1}:\")\n",
    "        tupla.append(str(var1))\n",
    "    result=[]\n",
    "    #Se limpian los elementos de la lista\n",
    "    for j in range(len(tupla)):\n",
    "        if len(tupla[j])>0:\n",
    "            result.append(tupla[j])\n",
    "        else:\n",
    "            None\n",
    "    print(result)"
   ]
  },
  {
   "cell_type": "code",
   "execution_count": 45,
   "metadata": {},
   "outputs": [
    {
     "name": "stdout",
     "output_type": "stream",
     "text": [
      "['f', '5']\n"
     ]
    }
   ],
   "source": [
    "tupla_tex()"
   ]
  },
  {
   "attachments": {},
   "cell_type": "markdown",
   "metadata": {},
   "source": [
    "### Problema 6"
   ]
  },
  {
   "cell_type": "code",
   "execution_count": 51,
   "metadata": {},
   "outputs": [],
   "source": [
    "def valid(x):\n",
    "    while True:\n",
    "        try:\n",
    "            entero=int(x)\n",
    "            return entero\n",
    "        except TypeError:\n",
    "            print(\"El valor ingresado no es entero\")\n",
    "            break\n",
    "        except ValueError:\n",
    "            print(\"El valor ingresado no es entero\")\n",
    "            break\n",
    "\n",
    "def prom_tuplas():\n",
    "    #print(\"El programa calcula la media para tuplas de igual tamaño\")\n",
    "    import numpy as np\n",
    "    filas=[]\n",
    "    result=[]\n",
    "    nivel1 = input(\"Ingrese el largo del nivel interior (columnas):\")\n",
    "    nivel2 = input(\"Ingrese el largo del nivel exterior (filas):\")\n",
    "    lvl1=valid(nivel1)\n",
    "    lvl2=valid(nivel2)\n",
    "    for i in range(lvl2):\n",
    "        columnas=[]\n",
    "        for j in range(lvl1):\n",
    "            val=input(f\"ingrese valor col ({i+1},{j+1}):\")\n",
    "            columnas.append(int(val))\n",
    "        filas.append(columnas)\n",
    "    for i in range(len(filas)):\n",
    "        #print(x[i])\n",
    "        result.append(np.mean(filas[i]))\n",
    "    print(result)\n"
   ]
  },
  {
   "cell_type": "code",
   "execution_count": 50,
   "metadata": {},
   "outputs": [
    {
     "name": "stdout",
     "output_type": "stream",
     "text": [
      "[10.5, 44.0, 58.0]\n"
     ]
    }
   ],
   "source": [
    "prom_tuplas()"
   ]
  },
  {
   "attachments": {},
   "cell_type": "markdown",
   "metadata": {},
   "source": [
    "### Problema 7"
   ]
  },
  {
   "cell_type": "code",
   "execution_count": 6,
   "metadata": {},
   "outputs": [
    {
     "name": "stdout",
     "output_type": "stream",
     "text": [
      "1. Desea añadir una factura? (Opcion 1)\n",
      "2. Desea pagar una factura? (Opción 2)\n",
      "3. Desea terminar? (Opción 3)\n",
      "\n",
      "El diccionario pendiente es: {'1234': 456, '4321': 123}\n",
      "El total de pendiente es de: 579\n",
      "El total de facturas cobradas es:[]\n",
      "----------------------------------------------------\n",
      "\n",
      "1. Desea añadir una factura? (Opcion 1)\n",
      "2. Desea pagar una factura? (Opción 2)\n",
      "3. Desea terminar? (Opción 3)\n",
      "\n",
      "El diccionario de pendiente es: {'1234': 456}\n",
      "El total de pendiente es de: 456\n",
      "El total de facturas cobradas es:123\n",
      "----------------------------------------------------\n",
      "\n",
      "1. Desea añadir una factura? (Opcion 1)\n",
      "2. Desea pagar una factura? (Opción 2)\n",
      "3. Desea terminar? (Opción 3)\n",
      "\n",
      "----------------------------------------------------\n"
     ]
    }
   ],
   "source": [
    "def valid(x):\n",
    "    while True:\n",
    "        try:\n",
    "            entero=int(x)\n",
    "            return entero\n",
    "        except TypeError:\n",
    "            print(\"El valor ingresado no es entero\")\n",
    "            break\n",
    "        except ValueError:\n",
    "            print(\"El valor ingresado no es entero\")\n",
    "            break\n",
    "\n",
    "def largo(x):\n",
    "    while True:\n",
    "        if len(x)==4:\n",
    "            return x\n",
    "        else:\n",
    "            print(\"Ingresar número de factura correcto\")\n",
    "            x = input(\"ingresar número de facura: \")\n",
    "\n",
    "def menu():\n",
    "    sel=[]\n",
    "    op=[1,2,3]\n",
    "    #pend=[]\n",
    "    cobradas=[]\n",
    "    data = {}\n",
    "    print(\"1. Desea añadir una factura? (Opcion 1)\")\n",
    "    print(\"2. Desea pagar una factura? (Opción 2)\")\n",
    "    print(\"3. Desea terminar? (Opción 3)\")\n",
    "    print()\n",
    "    sel=input(\"Ingresar selección: \")\n",
    "    x=valid(sel)\n",
    "    while x not in op:\n",
    "        print(\"Ingresar valor correcto: \")\n",
    "        sel=input(\"Ingresar selección: \")\n",
    "        x=valid(sel)\n",
    "        print()\n",
    "    else:\n",
    "        while True:\n",
    "            if x==1:\n",
    "                elemnt=input(\"Número de elementos a ingresar: \")\n",
    "                elemnt=valid(elemnt)\n",
    "                for i in range(elemnt):\n",
    "                    num_fact=input(\"Ingresar el número de factura: \")\n",
    "                    num_fact=largo(num_fact)\n",
    "                    monto=input(\"Ingresar el costo: \")\n",
    "                    monto=valid(monto)\n",
    "                    #pend.append(monto)\n",
    "                    data[num_fact]=monto\n",
    "                print(f\"El diccionario pendiente es: {data}\")\n",
    "                total=sum(data.values())\n",
    "                print(f\"El total de pendiente es de: {total}\")\n",
    "                print(f\"El total de facturas cobradas es:{cobradas}\")\n",
    "                print(\"----------------------------------------------------\")\n",
    "                print()\n",
    "                x=[]\n",
    "            elif x==2:\n",
    "                #data={\"1234\":321,\"4321\":123}\n",
    "                factura = input(\"Ingrese el número de factura: \")\n",
    "                factura = largo(factura)\n",
    "                if factura in data:\n",
    "                    cobradas.append(data.get(factura))\n",
    "                    del data[factura]\n",
    "                total_cob=(sum(cobradas))\n",
    "                total=sum(data.values())\n",
    "                print(f\"El diccionario de pendiente es: {data}\")\n",
    "                print(f\"El total de pendiente es de: {total}\")\n",
    "                print(f\"El total de facturas cobradas es: {total_cob}\")\n",
    "                print(\"----------------------------------------------------\")\n",
    "                print()\n",
    "                x=[]\n",
    "            elif x==3:\n",
    "                print(\"----------------------------------------------------\")\n",
    "                break\n",
    "            else:\n",
    "                print(\"1. Desea añadir una factura? (Opcion 1)\")\n",
    "                print(\"2. Desea pagar una factura? (Opción 2)\")\n",
    "                print(\"3. Desea terminar? (Opción 3)\")\n",
    "                print()\n",
    "                sel=input(\"Ingresar selección: \")\n",
    "                x=valid(sel)  \n",
    "                #break\n",
    "\n",
    "                \n",
    "        \n",
    " \n",
    "menu()"
   ]
  }
 ],
 "metadata": {
  "kernelspec": {
   "display_name": "Python 3",
   "language": "python",
   "name": "python3"
  },
  "language_info": {
   "codemirror_mode": {
    "name": "ipython",
    "version": 3
   },
   "file_extension": ".py",
   "mimetype": "text/x-python",
   "name": "python",
   "nbconvert_exporter": "python",
   "pygments_lexer": "ipython3",
   "version": "3.11.2"
  },
  "orig_nbformat": 4,
  "vscode": {
   "interpreter": {
    "hash": "7a15466719616190a2efdf83dc7907457ce9ab4ed30becfa487374260bfac4bc"
   }
  }
 },
 "nbformat": 4,
 "nbformat_minor": 2
}
