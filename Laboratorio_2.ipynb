{
 "cells": [
  {
   "cell_type": "markdown",
   "metadata": {},
   "source": [
    "# Laboratorio #2"
   ]
  },
  {
   "attachments": {},
   "cell_type": "markdown",
   "metadata": {},
   "source": [
    "Luis Pedro Pérez - 22008067"
   ]
  },
  {
   "cell_type": "code",
   "execution_count": 30,
   "metadata": {},
   "outputs": [],
   "source": [
    "1. \n",
    "# Se crea la variable x\n",
    "x = None\n",
    "#Se valida el tipo de valor ingresado\n",
    "def valid(x):\n",
    "    while True:\n",
    "        try:\n",
    "            entero=int(x)\n",
    "            return True\n",
    "        except TypeError:\n",
    "            print(\"El valor ingresado no es entero\")\n",
    "            break\n",
    "        except ValueError:\n",
    "            print(\"El valor ingresado no es entero\")\n",
    "            break\n",
    "        \"\"\" else:\n",
    "        return entero\n",
    "        break \"\"\"\n",
    "\n",
    "# Se define la función tiempo  \n",
    "def tiempo ():\n",
    "    y=input(\"Ingrese la cantidad de segundos\")\n",
    "    x=valid(y)\n",
    "    if x == True:\n",
    "        x=int(y)\n",
    "        horas    = x // 3600\n",
    "        minutos  = (x-horas*3600) // 60\n",
    "        segundos = (x-horas*3600-minutos*60)\n",
    "        print(f\"Horas: {horas}, Minutos: {minutos}, Segundos: {segundos}\")\n",
    "    else:\n",
    "        print(\"Ingresar valor correcto\")"
   ]
  },
  {
   "cell_type": "code",
   "execution_count": 31,
   "metadata": {},
   "outputs": [
    {
     "name": "stdout",
     "output_type": "stream",
     "text": [
      "Horas: 6, Minutos: 30, Segundos: 56\n"
     ]
    }
   ],
   "source": [
    "tiempo()"
   ]
  },
  {
   "cell_type": "code",
   "execution_count": 13,
   "metadata": {},
   "outputs": [],
   "source": [
    "def valid(x):\n",
    "    while True:\n",
    "        try:\n",
    "            entero=int(x)\n",
    "            return entero\n",
    "        except TypeError:\n",
    "            print(\"El valor ingresado no es entero\")\n",
    "            break\n",
    "        except ValueError:\n",
    "            print(\"El valor ingresado no es entero\")\n",
    "            break\n",
    "        \"\"\" else:\n",
    "        return entero\n",
    "        break \"\"\"\n",
    "\n",
    "def figura():\n",
    "    y=input(\"Ingrese la cantidad de niveles o líneas\")\n",
    "    x=valid(y)\n",
    "    for i in range(x):\n",
    "        for pc in range(i+1):\n",
    "            print(\"*\", end=\" \")\n",
    "        for pd in range(i,x):\n",
    "            print(\" \", end=\" \")\n",
    "        for cuad in range(x):\n",
    "            print(\" \", end=\" \")\n",
    "        for pc in range(i+1):\n",
    "            print(\" \", end=\" \")\n",
    "        for pd in range(i,x):\n",
    "            print(\"*\", end=\" \")\n",
    "        for cuad in range(x):\n",
    "            print(\" \", end=\" \")\n",
    "        for pd in range(i,x):\n",
    "            print(\"*\", end=\" \")\n",
    "        for pc in range(i+1):\n",
    "            print(\" \", end=\" \")\n",
    "        for pd in range(i,x):\n",
    "            print(\" \", end=\" \")\n",
    "        for pc in range(i+1):\n",
    "            print(\"*\", end=\" \")\n",
    "        print()"
   ]
  },
  {
   "cell_type": "code",
   "execution_count": 14,
   "metadata": {},
   "outputs": [
    {
     "name": "stdout",
     "output_type": "stream",
     "text": [
      "*                   * * * *         * * * *           * \n",
      "* *                   * * *         * * *           * * \n",
      "* * *                   * *         * *           * * * \n",
      "* * * *                   *         *           * * * * \n"
     ]
    }
   ],
   "source": [
    "figura()"
   ]
  }
 ],
 "metadata": {
  "kernelspec": {
   "display_name": "Python 3",
   "language": "python",
   "name": "python3"
  },
  "language_info": {
   "codemirror_mode": {
    "name": "ipython",
    "version": 3
   },
   "file_extension": ".py",
   "mimetype": "text/x-python",
   "name": "python",
   "nbconvert_exporter": "python",
   "pygments_lexer": "ipython3",
   "version": "3.11.2"
  },
  "orig_nbformat": 4,
  "vscode": {
   "interpreter": {
    "hash": "7a15466719616190a2efdf83dc7907457ce9ab4ed30becfa487374260bfac4bc"
   }
  }
 },
 "nbformat": 4,
 "nbformat_minor": 2
}
