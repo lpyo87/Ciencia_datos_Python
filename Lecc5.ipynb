{
 "cells": [
  {
   "cell_type": "markdown",
   "metadata": {},
   "source": [
    "## Numpy\n"
   ]
  },
  {
   "cell_type": "code",
   "execution_count": 3,
   "metadata": {},
   "outputs": [],
   "source": [
    "import numpy as np"
   ]
  },
  {
   "attachments": {},
   "cell_type": "markdown",
   "metadata": {},
   "source": [
    "## Crear arreglos"
   ]
  },
  {
   "cell_type": "code",
   "execution_count": 4,
   "metadata": {},
   "outputs": [
    {
     "data": {
      "text/plain": [
       "array([10, 20, 30, 40, 50, 60])"
      ]
     },
     "execution_count": 4,
     "metadata": {},
     "output_type": "execute_result"
    }
   ],
   "source": [
    "x = np.array([10,20,30,40,50,60]) #Creó un arreglo o un tensor\n",
    "x"
   ]
  },
  {
   "cell_type": "code",
   "execution_count": 5,
   "metadata": {},
   "outputs": [
    {
     "data": {
      "text/plain": [
       "50"
      ]
     },
     "execution_count": 5,
     "metadata": {},
     "output_type": "execute_result"
    }
   ],
   "source": [
    "x[4]"
   ]
  },
  {
   "cell_type": "code",
   "execution_count": 6,
   "metadata": {},
   "outputs": [
    {
     "data": {
      "text/plain": [
       "array([20, 30])"
      ]
     },
     "execution_count": 6,
     "metadata": {},
     "output_type": "execute_result"
    }
   ],
   "source": [
    "x[1:3]"
   ]
  },
  {
   "cell_type": "code",
   "execution_count": 7,
   "metadata": {},
   "outputs": [
    {
     "data": {
      "text/plain": [
       "array([10., 20.])"
      ]
     },
     "execution_count": 7,
     "metadata": {},
     "output_type": "execute_result"
    }
   ],
   "source": [
    "y = np.linspace(10,20,2) #crea particiones de un intervalo.\n",
    "y"
   ]
  },
  {
   "cell_type": "code",
   "execution_count": 10,
   "metadata": {},
   "outputs": [
    {
     "data": {
      "text/plain": [
       "array([ 1. ,  1.5,  2. ,  2.5,  3. ,  3.5,  4. ,  4.5,  5. ,  5.5,  6. ,\n",
       "        6.5,  7. ,  7.5,  8. ,  8.5,  9. ,  9.5, 10. , 10.5, 11. , 11.5,\n",
       "       12. , 12.5, 13. , 13.5, 14. , 14.5, 15. , 15.5, 16. , 16.5, 17. ,\n",
       "       17.5, 18. , 18.5, 19. , 19.5, 20. , 20.5])"
      ]
     },
     "execution_count": 10,
     "metadata": {},
     "output_type": "execute_result"
    }
   ],
   "source": [
    "z = np.arange(1,21,.5) #Crea un array \n",
    "z"
   ]
  },
  {
   "cell_type": "code",
   "execution_count": 13,
   "metadata": {},
   "outputs": [
    {
     "data": {
      "text/plain": [
       "array([[0., 0., 0., 0.],\n",
       "       [0., 0., 0., 0.],\n",
       "       [0., 0., 0., 0.],\n",
       "       [0., 0., 0., 0.]])"
      ]
     },
     "execution_count": 13,
     "metadata": {},
     "output_type": "execute_result"
    }
   ],
   "source": [
    "ze = np.zeros((4,4)) #Crea un arreglo de n cantidad de elementos valor 0. También se puede generar en una matriz\n",
    "ze"
   ]
  },
  {
   "cell_type": "code",
   "execution_count": 15,
   "metadata": {},
   "outputs": [
    {
     "data": {
      "text/plain": [
       "array([[1., 1., 1., 1.],\n",
       "       [1., 1., 1., 1.],\n",
       "       [1., 1., 1., 1.],\n",
       "       [1., 1., 1., 1.]])"
      ]
     },
     "execution_count": 15,
     "metadata": {},
     "output_type": "execute_result"
    }
   ],
   "source": [
    "unos = np.ones((4,4)) # Similar a np.zeros pero con unos\n",
    "unos"
   ]
  },
  {
   "cell_type": "code",
   "execution_count": 17,
   "metadata": {},
   "outputs": [
    {
     "data": {
      "text/plain": [
       "array([[0, 0, 0, 0],\n",
       "       [0, 0, 0, 0]])"
      ]
     },
     "execution_count": 17,
     "metadata": {},
     "output_type": "execute_result"
    }
   ],
   "source": [
    "y = np.array([[10,20,40,60],[15,25,35,45]])\n",
    "np.zeros_like(y) #Genera una matriz o un arreglo con la misma estructura que la variable o argumento"
   ]
  },
  {
   "cell_type": "code",
   "execution_count": 18,
   "metadata": {},
   "outputs": [
    {
     "name": "stdout",
     "output_type": "stream",
     "text": [
      "El rango del tensor es: 2, las dimensiones son (2, 4)\n"
     ]
    }
   ],
   "source": [
    "y = np.array([[10,20,40,60],[15,25,35,45]])\n",
    "rango = y.ndim\n",
    "dimensiones = y.shape\n",
    "print(f\"El rango del tensor es: {rango}, las dimensiones son {dimensiones}\")"
   ]
  },
  {
   "cell_type": "code",
   "execution_count": null,
   "metadata": {},
   "outputs": [],
   "source": [
    "x = np.array([10,20,30,40,50,60])\n",
    "y = np.array([[10,20,40,60],[15,25,35,45]])\n"
   ]
  },
  {
   "cell_type": "code",
   "execution_count": 19,
   "metadata": {},
   "outputs": [
    {
     "data": {
      "text/plain": [
       "30"
      ]
     },
     "execution_count": 19,
     "metadata": {},
     "output_type": "execute_result"
    }
   ],
   "source": [
    "x[2] #Cuando es un vector de dimensión 1,n"
   ]
  },
  {
   "cell_type": "code",
   "execution_count": 20,
   "metadata": {},
   "outputs": [
    {
     "data": {
      "text/plain": [
       "60"
      ]
     },
     "execution_count": 20,
     "metadata": {},
     "output_type": "execute_result"
    }
   ],
   "source": [
    "y[0,3] #Cuando son matrices o tienen vectores de m,n"
   ]
  },
  {
   "cell_type": "code",
   "execution_count": 21,
   "metadata": {},
   "outputs": [
    {
     "name": "stdout",
     "output_type": "stream",
     "text": [
      "60\n",
      "El rango del tensor es:2, las dimensiones son (2, 4)\n"
     ]
    }
   ],
   "source": [
    "rango = y.ndim\n",
    "dimensiones = y.shape\n",
    "print(y[0,3]) #La cantidad de argumentos es igual a la cantidad del rango. El rango es la cantidad de elementos o dimensiones que tiene el tensor para representar o extraer los valores \n",
    "#print(y[0][3]) Es lo mismo que el de la línea anterior.\n",
    "print(f\"El rango del tensor es:{rango}, las dimensiones son {dimensiones}\") "
   ]
  },
  {
   "cell_type": "code",
   "execution_count": 23,
   "metadata": {},
   "outputs": [
    {
     "name": "stdout",
     "output_type": "stream",
     "text": [
      "El rango del tensor es: 3, las dimensiones son (2, 2, 5)\n"
     ]
    }
   ],
   "source": [
    "y = np.array([[[10,20,30,40,50],[33,44,55,66,77]],[[111,222,333,444,555],[777,888,999,232,656]]])\n",
    "rango = y.ndim\n",
    "dimensiones = y.shape\n",
    "print(f\"El rango del tensor es: {rango}, las dimensiones son {dimensiones}\")"
   ]
  },
  {
   "cell_type": "code",
   "execution_count": 25,
   "metadata": {},
   "outputs": [
    {
     "name": "stdout",
     "output_type": "stream",
     "text": [
      "50\n"
     ]
    }
   ],
   "source": [
    "print(y[0,0,4]) #para extraer un dato se necesitan 3 números debido a que es de rango 3"
   ]
  },
  {
   "attachments": {},
   "cell_type": "markdown",
   "metadata": {},
   "source": [
    "### Operaciones"
   ]
  },
  {
   "cell_type": "code",
   "execution_count": 26,
   "metadata": {},
   "outputs": [],
   "source": [
    "v = np.array([1,2,3,4])\n",
    "w = np.array([5,6,7,8])"
   ]
  },
  {
   "cell_type": "code",
   "execution_count": 27,
   "metadata": {},
   "outputs": [
    {
     "name": "stdout",
     "output_type": "stream",
     "text": [
      "suma:  [ 6  8 10 12]\n",
      "resta:  [-4 -4 -4 -4]\n",
      "multiplicación:  [ 5 12 21 32]\n",
      "división:  [0.2        0.33333333 0.42857143 0.5       ]\n",
      "modulo:  [1 2 3 4]\n",
      "mult escalar:  [10 12 14 16]\n",
      "suma escalar:  [6 7 8 9]\n",
      "resta escalar:  [-1 -2 -3 -4]\n",
      "division escalar:  [0.625 0.75  0.875 1.   ]\n",
      "modulo escalar:  [1 0 1 0]\n"
     ]
    }
   ],
   "source": [
    "print(\"suma: \", v + w)\n",
    "print(\"resta: \", v - w)\n",
    "print(\"multiplicación: \", v * w)\n",
    "print(\"división: \", v / w)\n",
    "print(\"modulo: \", v % w)\n",
    "print(\"mult escalar: \", 2*w)\n",
    "print(\"suma escalar: \", 5 + v)\n",
    "print(\"resta escalar: \", 4 - w)\n",
    "print(\"division escalar: \", w / 8)\n",
    "print(\"modulo escalar: \", w % 2)"
   ]
  },
  {
   "attachments": {},
   "cell_type": "markdown",
   "metadata": {},
   "source": [
    "#### Operaciones de Agregación o NaN"
   ]
  },
  {
   "cell_type": "code",
   "execution_count": 28,
   "metadata": {},
   "outputs": [],
   "source": [
    "x = np.array([1,2, 3,4, 5, 6, 7, 3, 3, 4, 5])\n",
    "x_nan = np.array([1, 2, 3, 4, 5, 6, 7, np.nan, 5, 9, np.nan])"
   ]
  },
  {
   "cell_type": "code",
   "execution_count": 31,
   "metadata": {},
   "outputs": [
    {
     "name": "stdout",
     "output_type": "stream",
     "text": [
      "3.909090909090909\n",
      "4.666666666666667\n"
     ]
    }
   ],
   "source": [
    "print(np.mean(x))\n",
    "print(np.nanmean(x_nan))"
   ]
  },
  {
   "cell_type": "code",
   "execution_count": 32,
   "metadata": {},
   "outputs": [
    {
     "name": "stdout",
     "output_type": "stream",
     "text": [
      "1.6762808104168887\n",
      "2.357022603955158\n"
     ]
    }
   ],
   "source": [
    "print(np.std(x))\n",
    "print(np.nanstd(x_nan))"
   ]
  },
  {
   "cell_type": "code",
   "execution_count": 33,
   "metadata": {},
   "outputs": [
    {
     "name": "stdout",
     "output_type": "stream",
     "text": [
      "7\n",
      "9.0\n"
     ]
    }
   ],
   "source": [
    "print(np.max(x))\n",
    "print(np.nanmax(x_nan))"
   ]
  },
  {
   "cell_type": "code",
   "execution_count": 34,
   "metadata": {},
   "outputs": [
    {
     "name": "stdout",
     "output_type": "stream",
     "text": [
      "43\n",
      "42.0\n"
     ]
    }
   ],
   "source": [
    "print(np.sum(x))\n",
    "print(np.nansum(x_nan))"
   ]
  },
  {
   "attachments": {},
   "cell_type": "markdown",
   "metadata": {},
   "source": [
    "Existen fórmulas de agregación que toman en cuenta los nan para poder operarlos"
   ]
  },
  {
   "cell_type": "code",
   "execution_count": 35,
   "metadata": {},
   "outputs": [
    {
     "name": "stdout",
     "output_type": "stream",
     "text": [
      "3.909090909090909\n",
      "4.666666666666667\n",
      "4.0\n",
      "5.0\n",
      "1.6762808104168887\n",
      "2.357022603955158\n",
      "7\n",
      "9.0\n",
      "1\n",
      "1.0\n",
      "2.809917355371901\n",
      "5.5555555555555545\n",
      "43\n",
      "42.0\n",
      "907200\n",
      "907200\n"
     ]
    }
   ],
   "source": [
    "print(np.mean(x))\n",
    "print(np.nanmean(x_nan))\n",
    "print(np.median(x))\n",
    "print(np.nanmedian(x_nan))\n",
    "print(np.std(x))\n",
    "print(np.nanstd(x_nan))\n",
    "print(np.max(x))\n",
    "print(np.nanmax(x_nan))\n",
    "print(np.min(x))\n",
    "print(np.nanmin(x_nan))\n",
    "print(np.var(x))\n",
    "print(np.nanvar(x_nan))\n",
    "print(np.sum(x))\n",
    "print(np.nansum(x_nan))\n",
    "print(np.prod(x))\n",
    "print(np.nanprod(x))"
   ]
  },
  {
   "cell_type": "markdown",
   "metadata": {},
   "source": [
    "### Reshape"
   ]
  },
  {
   "cell_type": "code",
   "execution_count": 38,
   "metadata": {},
   "outputs": [
    {
     "data": {
      "text/plain": [
       "array([0, 1, 2, 3, 4, 5, 6, 7, 8, 9])"
      ]
     },
     "execution_count": 38,
     "metadata": {},
     "output_type": "execute_result"
    }
   ],
   "source": [
    "x = np.arange(0,10,1)\n",
    "x"
   ]
  },
  {
   "cell_type": "code",
   "execution_count": 39,
   "metadata": {},
   "outputs": [
    {
     "data": {
      "text/plain": [
       "array([[0, 1, 2, 3, 4],\n",
       "       [5, 6, 7, 8, 9]])"
      ]
     },
     "execution_count": 39,
     "metadata": {},
     "output_type": "execute_result"
    }
   ],
   "source": [
    "np.reshape(x,(2,5)) #para poder hacer reshape, la data lo tiene que permitir es decir, no se puede pedir una matriz (3,5) ya que no hay 15 datos."
   ]
  },
  {
   "attachments": {},
   "cell_type": "markdown",
   "metadata": {},
   "source": [
    "### Performance"
   ]
  },
  {
   "cell_type": "code",
   "execution_count": 40,
   "metadata": {},
   "outputs": [],
   "source": [
    "from time import time"
   ]
  },
  {
   "cell_type": "code",
   "execution_count": 50,
   "metadata": {},
   "outputs": [],
   "source": [
    "x = np.linspace(1,10000000, 20000000)\n",
    "b0 = 5\n",
    "b1 = 2"
   ]
  },
  {
   "cell_type": "code",
   "execution_count": 43,
   "metadata": {},
   "outputs": [
    {
     "name": "stdout",
     "output_type": "stream",
     "text": [
      "El tiempo de ejecución fue de: 10.595563888549805\n"
     ]
    }
   ],
   "source": [
    "y = np.empty_like(x)\n",
    "\n",
    "inicio = time()\n",
    "for index, value in enumerate(x):\n",
    "    y[index]= b0 + b1 * value\n",
    "fin = time()\n",
    "print(f\"El tiempo de ejecución fue de: {fin-inicio}\")"
   ]
  },
  {
   "attachments": {},
   "cell_type": "markdown",
   "metadata": {},
   "source": [
    "### Solución con Numpy"
   ]
  },
  {
   "cell_type": "code",
   "execution_count": 51,
   "metadata": {},
   "outputs": [
    {
     "name": "stdout",
     "output_type": "stream",
     "text": [
      "El tiempo de ejecución fue de: 0.1405954360961914\n"
     ]
    }
   ],
   "source": [
    "#x = np.arange(0,10,1)\n",
    "#x\n",
    "\n",
    "vect1=np.ones_like(x).reshape(-1,1)\n",
    "x = np.reshape(x,(-1,1))\n",
    "A = np.hstack([x, vect1])\n",
    "betas = np.array([[b1],[b0]])\n",
    "\n",
    "inicio = time()\n",
    "y1 = np.matmul(A,betas)\n",
    "fin = time()\n",
    "print(f\"El tiempo de ejecución fue de: {fin-inicio}\")"
   ]
  }
 ],
 "metadata": {
  "kernelspec": {
   "display_name": "Python 3",
   "language": "python",
   "name": "python3"
  },
  "language_info": {
   "codemirror_mode": {
    "name": "ipython",
    "version": 3
   },
   "file_extension": ".py",
   "mimetype": "text/x-python",
   "name": "python",
   "nbconvert_exporter": "python",
   "pygments_lexer": "ipython3",
   "version": "3.10.7"
  },
  "orig_nbformat": 4,
  "vscode": {
   "interpreter": {
    "hash": "f964375d2021815b0ea84f050a7d4185aa0b785529dc64fa5b30b10a1f137a55"
   }
  }
 },
 "nbformat": 4,
 "nbformat_minor": 2
}
