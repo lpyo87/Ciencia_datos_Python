{
 "cells": [
  {
   "cell_type": "code",
   "execution_count": 3,
   "metadata": {},
   "outputs": [
    {
     "data": {
      "text/plain": [
       "49"
      ]
     },
     "execution_count": 3,
     "metadata": {},
     "output_type": "execute_result"
    }
   ],
   "source": [
    "7**2"
   ]
  },
  {
   "cell_type": "code",
   "execution_count": 4,
   "metadata": {},
   "outputs": [
    {
     "name": "stdout",
     "output_type": "stream",
     "text": [
      "hola a todos\n"
     ]
    }
   ],
   "source": [
    "a=\"hola a todos\"\n",
    "print(a)"
   ]
  },
  {
   "attachments": {},
   "cell_type": "markdown",
   "metadata": {},
   "source": [
    "### Comentarios"
   ]
  },
  {
   "cell_type": "code",
   "execution_count": null,
   "metadata": {},
   "outputs": [],
   "source": [
    "#para cuando se realizan párrafos de texto, se usan triples comillas '''\n"
   ]
  },
  {
   "attachments": {},
   "cell_type": "markdown",
   "metadata": {},
   "source": [
    "### Tipos de datos"
   ]
  },
  {
   "cell_type": "code",
   "execution_count": 5,
   "metadata": {},
   "outputs": [],
   "source": [
    "numero= 4\n",
    "string = 'Hola'\n",
    "Boole = True"
   ]
  },
  {
   "cell_type": "code",
   "execution_count": 9,
   "metadata": {},
   "outputs": [
    {
     "name": "stdout",
     "output_type": "stream",
     "text": [
      "Hola a todos, mi edad es:  231\n",
      "Hola a todos, mi edad es: 231\n",
      "Hola a todos, mi nombre es: Pedro Pérez y mi edad es: 231\n",
      "Hola a todos, mi nombre es: Pedro Pérez y mi edad es: 231\n"
     ]
    }
   ],
   "source": [
    "edad= 231\n",
    "nombre = \"Pedro Pérez\"\n",
    "print('Hola a todos, mi edad es: ', edad) #usando parámetro función\n",
    "print('Hola a todos, mi edad es: '+str(edad)) #concatenación al momento de imprimir\n",
    "print(f\"Hola a todos, mi nombre es: {nombre} y mi edad es: {edad}\") #template natural TIENE QUE TENER LA F AL PRINCIPIO\n",
    "print(\"Hola a todos, mi nombre es: {} y mi edad es: {}\".format(nombre,edad))"
   ]
  },
  {
   "attachments": {},
   "cell_type": "markdown",
   "metadata": {},
   "source": [
    "### Ingreso de datos"
   ]
  },
  {
   "cell_type": "code",
   "execution_count": 10,
   "metadata": {},
   "outputs": [
    {
     "name": "stdout",
     "output_type": "stream",
     "text": [
      "Hola, Homero, esto es Python\n"
     ]
    }
   ],
   "source": [
    "nombre=input(\"Ingrese su nombre: \")\n",
    "print(f\"Hola, {nombre}, esto es Python\")"
   ]
  },
  {
   "attachments": {},
   "cell_type": "markdown",
   "metadata": {},
   "source": [
    "### Strings"
   ]
  },
  {
   "cell_type": "code",
   "execution_count": 12,
   "metadata": {},
   "outputs": [
    {
     "name": "stdout",
     "output_type": "stream",
     "text": [
      "10\n"
     ]
    },
    {
     "data": {
      "text/plain": [
       "'Luis '"
      ]
     },
     "execution_count": 12,
     "metadata": {},
     "output_type": "execute_result"
    }
   ],
   "source": [
    "a = \"Luis Pedro\"\n",
    "print(len(a))\n",
    "print(a[0:5]) #no incluye límites superiores\n",
    "print(a[ :5]) #se puede dejar en blanco el inicio para poder indicar que es la posición inicial del string\n",
    "print(a[4: ]) #se puede dejar en blanco el final para poder indicar que la posición inicial es la 4 y el límite superior es el último caracter\n"
   ]
  },
  {
   "attachments": {},
   "cell_type": "markdown",
   "metadata": {},
   "source": [
    "### Casteos"
   ]
  },
  {
   "cell_type": "code",
   "execution_count": 13,
   "metadata": {},
   "outputs": [
    {
     "data": {
      "text/plain": [
       "34330"
      ]
     },
     "execution_count": 13,
     "metadata": {},
     "output_type": "execute_result"
    }
   ],
   "source": [
    "int('3433')*10 #cambio de formato y el objetivo es mantener la lógica de la escritura"
   ]
  },
  {
   "cell_type": "code",
   "execution_count": 15,
   "metadata": {},
   "outputs": [
    {
     "data": {
      "text/plain": [
       "'hola-hola-hola-hola-hola-hola-hola-hola-hola-hola-'"
      ]
     },
     "execution_count": 15,
     "metadata": {},
     "output_type": "execute_result"
    }
   ],
   "source": [
    "'hola-'*10"
   ]
  },
  {
   "cell_type": "code",
   "execution_count": 17,
   "metadata": {},
   "outputs": [
    {
     "name": "stdout",
     "output_type": "stream",
     "text": [
      "323.23\n",
      "333.23\n"
     ]
    }
   ],
   "source": [
    "print(float('323.23'))\n",
    "print(float('323.23')+10)"
   ]
  },
  {
   "attachments": {},
   "cell_type": "markdown",
   "metadata": {},
   "source": [
    "### Control de flujo"
   ]
  },
  {
   "cell_type": "code",
   "execution_count": 22,
   "metadata": {},
   "outputs": [
    {
     "data": {
      "text/plain": [
       "False"
      ]
     },
     "execution_count": 22,
     "metadata": {},
     "output_type": "execute_result"
    }
   ],
   "source": [
    "34==43"
   ]
  },
  {
   "cell_type": "code",
   "execution_count": 24,
   "metadata": {},
   "outputs": [
    {
     "data": {
      "text/plain": [
       "False"
      ]
     },
     "execution_count": 24,
     "metadata": {},
     "output_type": "execute_result"
    }
   ],
   "source": [
    "'Hola'!= 'Hola'"
   ]
  },
  {
   "cell_type": "code",
   "execution_count": 25,
   "metadata": {},
   "outputs": [
    {
     "data": {
      "text/plain": [
       "True"
      ]
     },
     "execution_count": 25,
     "metadata": {},
     "output_type": "execute_result"
    }
   ],
   "source": [
    "True is True"
   ]
  },
  {
   "cell_type": "code",
   "execution_count": 30,
   "metadata": {},
   "outputs": [
    {
     "name": "stdout",
     "output_type": "stream",
     "text": [
      "El número es cero\n"
     ]
    }
   ],
   "source": [
    "numero = input(\"Ingrese un número: \")\n",
    "\n",
    "if(numero!=0):\n",
    "    print(\"el número no es cero!\")\n",
    "else:\n",
    "    print(\"El número es cero\")"
   ]
  },
  {
   "attachments": {},
   "cell_type": "markdown",
   "metadata": {},
   "source": [
    "Son palabras reservadas y tienen que tener identación\n",
    "if, while, for, while def, try, except, finally, elif"
   ]
  },
  {
   "cell_type": "code",
   "execution_count": 33,
   "metadata": {},
   "outputs": [
    {
     "name": "stdout",
     "output_type": "stream",
     "text": [
      "El día no es válido\n"
     ]
    }
   ],
   "source": [
    "dia = int(input(\"Ingrese un número de día: \"))\n",
    "if(dia>=1 and dia<=7):\n",
    "    if(dia==1):\n",
    "        print(\"El día es lunes-1\")\n",
    "    elif(dia==2):\n",
    "        print(\"El día es martes-2\")\n",
    "    elif(dia==3):\n",
    "        print(\"El día es miércoles-3\")\n",
    "    elif(dia==4):\n",
    "        print(\"El día es jue-4\")\n",
    "    elif(dia==5):\n",
    "        print(\"El día es vie-5\")\n",
    "    else:\n",
    "        print(\"El día es fin de semana\")\n",
    "else:\n",
    "    print(\"El día no es válido\")"
   ]
  },
  {
   "attachments": {},
   "cell_type": "markdown",
   "metadata": {},
   "source": [
    "### Ciclos"
   ]
  },
  {
   "cell_type": "code",
   "execution_count": 35,
   "metadata": {},
   "outputs": [
    {
     "name": "stdout",
     "output_type": "stream",
     "text": [
      "Error, intente de nuevo\n",
      "Error, intente de nuevo\n",
      "El número es correcto\n"
     ]
    }
   ],
   "source": [
    "entradaUsuario = 0\n",
    "numero=4\n",
    "while (numero != entradaUsuario):\n",
    "    entradaUsuario = int(input(\"Ingrese un número:\"))\n",
    "    if(numero != entradaUsuario):\n",
    "        print(\"Error, intente de nuevo\")\n",
    "\n",
    "print(\"El número es correcto\")"
   ]
  },
  {
   "cell_type": "code",
   "execution_count": null,
   "metadata": {},
   "outputs": [],
   "source": [
    "entradaUsuario = 0\n",
    "numero=4\n",
    "continuar = True\n",
    "while (continuar):\n",
    "    entradaUsuario = int(input(\"Ingrese un número:\"))\n",
    "    if(numero != entradaUsuario):\n",
    "        print(\"Error, intente de nuevo\")\n",
    "    else:\n",
    "        continuar=False\n",
    "\n",
    "print(\"El número es correcto\")"
   ]
  },
  {
   "cell_type": "code",
   "execution_count": 36,
   "metadata": {},
   "outputs": [
    {
     "name": "stdout",
     "output_type": "stream",
     "text": [
      "Error, intente de nuevo\n",
      "Error, intente de nuevo\n",
      "El número es correcto\n"
     ]
    }
   ],
   "source": [
    "entradaUsuario = 0\n",
    "numero=4\n",
    "while (True):\n",
    "    entradaUsuario = int(input(\"Ingrese un número:\"))\n",
    "    if(numero != entradaUsuario):\n",
    "        print(\"Error, intente de nuevo\")\n",
    "    else:\n",
    "        break\n",
    "\n",
    "print(\"El número es correcto\")"
   ]
  },
  {
   "cell_type": "code",
   "execution_count": 37,
   "metadata": {},
   "outputs": [
    {
     "data": {
      "text/plain": [
       "[0, 2, 4, 6, 8, 10]"
      ]
     },
     "execution_count": 37,
     "metadata": {},
     "output_type": "execute_result"
    }
   ],
   "source": [
    "#for se utiliza cuando sabemos cuantas veces se repetirá el ciclo\n",
    "list(range(0,11,2))"
   ]
  },
  {
   "cell_type": "code",
   "execution_count": 45,
   "metadata": {},
   "outputs": [
    {
     "name": "stdout",
     "output_type": "stream",
     "text": [
      "0\n",
      "1\n",
      "2\n",
      "3\n",
      "4\n",
      "5\n",
      "6\n",
      "7\n",
      "8\n",
      "9\n",
      "10\n"
     ]
    }
   ],
   "source": [
    "for i in range(11):\n",
    "    print(i)"
   ]
  },
  {
   "cell_type": "code",
   "execution_count": 46,
   "metadata": {},
   "outputs": [
    {
     "name": "stdout",
     "output_type": "stream",
     "text": [
      "El valor 10 está en la posición 0\n",
      "la suma es: 110\n",
      "------\n",
      "El valor 25 está en la posición 1\n",
      "la suma es: 225\n",
      "------\n",
      "El valor 56 está en la posición 2\n",
      "la suma es: 356\n",
      "------\n",
      "El valor 90 está en la posición 3\n",
      "la suma es: 490\n",
      "------\n",
      "El valor 12 está en la posición 4\n",
      "la suma es: 512\n",
      "------\n",
      "El valor 23 está en la posición 5\n",
      "la suma es: 623\n",
      "------\n",
      "El valor 243 está en la posición 6\n",
      "la suma es: 943\n",
      "------\n"
     ]
    }
   ],
   "source": [
    "numeros= [10,25,56,90,12,23,243]\n",
    "numeros2 = [100,200,300,400,500,600,700]\n",
    "for index, value in enumerate(numeros):\n",
    "    print(f'El valor {value} está en la posición {index}')\n",
    "    resultado = value + numeros2[index]\n",
    "    print('la suma es: {}'.format(resultado))\n",
    "    print('------')"
   ]
  }
 ],
 "metadata": {
  "kernelspec": {
   "display_name": "Python 3",
   "language": "python",
   "name": "python3"
  },
  "language_info": {
   "codemirror_mode": {
    "name": "ipython",
    "version": 3
   },
   "file_extension": ".py",
   "mimetype": "text/x-python",
   "name": "python",
   "nbconvert_exporter": "python",
   "pygments_lexer": "ipython3",
   "version": "3.10.7"
  },
  "orig_nbformat": 4,
  "vscode": {
   "interpreter": {
    "hash": "f964375d2021815b0ea84f050a7d4185aa0b785529dc64fa5b30b10a1f137a55"
   }
  }
 },
 "nbformat": 4,
 "nbformat_minor": 2
}
